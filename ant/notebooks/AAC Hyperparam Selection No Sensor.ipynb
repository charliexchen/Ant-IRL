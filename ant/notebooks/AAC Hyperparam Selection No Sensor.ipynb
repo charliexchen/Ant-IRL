{
 "cells": [
  {
   "cell_type": "code",
   "execution_count": 1,
   "metadata": {},
   "outputs": [],
   "source": [
    "import yaml\n",
    "from AntController.HyperparamSearchUtils import create_data_from_data_stores, \\\n",
    "            create_actor_func_from_hyper_param_search, \\\n",
    "            create_value_func_from_hyper_param_search, \\\n",
    "            pretrain_predictor_as_value_func, \\\n",
    "            get_value_func_loss\n",
    "\n",
    "from AntController.AntEnvironment import EpisodeData\n",
    "from AntController.HaikuPredictor import HaikuPredictor\n",
    "import os\n",
    "import numpy as np"
   ]
  },
  {
   "cell_type": "code",
   "execution_count": 2,
   "metadata": {},
   "outputs": [],
   "source": [
    "actor_config_path = \"AntController/configs/actor_hyperparam_search_config_no_sensor.yaml\"\n",
    "critic_config_path = \"AntController/configs/critic_hyperparam_search_config_no_sensor.yaml\"\n",
    "training_data_dir = \"TrainingData/Fixed_Walk_With_Sensor\"\n",
    "data = create_data_from_data_stores(training_data_dir, sensor_enabled = False)\n"
   ]
  },
  {
   "cell_type": "code",
   "execution_count": 3,
   "metadata": {},
   "outputs": [],
   "source": [
    "rewards, states, actions, shifted_states, is_non_terminal = data\n",
    "discount = 0.9\n",
    "test_pivot = int(0.1 * len(data[0]))"
   ]
  },
  {
   "cell_type": "code",
   "execution_count": 5,
   "metadata": {},
   "outputs": [
    {
     "name": "stdout",
     "output_type": "stream",
     "text": [
      "Running random search on actor...\n"
     ]
    },
    {
     "name": "stderr",
     "output_type": "stream",
     "text": [
      "/home/charlie/.local/lib/python3.8/site-packages/jax/_src/lax/lax.py:6271: UserWarning: Explicitly requested dtype float64 requested in zeros is not available, and will be truncated to dtype float32. To enable more dtypes, set the jax_enable_x64 configuration option or the JAX_ENABLE_X64 shell environment variable. See https://github.com/google/jax#current-gotchas for more.\n",
      "  warnings.warn(msg.format(dtype, fun_name , truncated_dtype))\n",
      "Trained Model 255 with Loss 8.14543. Current Optimal Loss: 0.12633: 100%|██████████| 256/256 [26:49<00:00,  6.29s/it] \n"
     ]
    }
   ],
   "source": [
    "with open(actor_config_path) as file:\n",
    "    actor_config = yaml.load(file, Loader=yaml.FullLoader)\n",
    "best_actor, best_actor_test_error, best_actor_config = \\\n",
    "    create_actor_func_from_hyper_param_search(actor_config, data)"
   ]
  },
  {
   "cell_type": "code",
   "execution_count": 4,
   "metadata": {},
   "outputs": [
    {
     "name": "stdout",
     "output_type": "stream",
     "text": [
      "Running random search on value critic...\n"
     ]
    },
    {
     "name": "stderr",
     "output_type": "stream",
     "text": [
      "/home/charlie/.local/lib/python3.8/site-packages/jax/_src/lax/lax.py:6271: UserWarning: Explicitly requested dtype float64 requested in zeros is not available, and will be truncated to dtype float32. To enable more dtypes, set the jax_enable_x64 configuration option or the JAX_ENABLE_X64 shell environment variable. See https://github.com/google/jax#current-gotchas for more.\n",
      "  warnings.warn(msg.format(dtype, fun_name , truncated_dtype))\n",
      "Trained Model 63 with Loss 0.09431. Current Optimal Loss: 0.00639: 100%|██████████| 64/64 [08:34<00:00,  8.03s/it]\n"
     ]
    }
   ],
   "source": [
    "with open(critic_config_path) as file:\n",
    "    critic_config = yaml.load(file, Loader=yaml.FullLoader)\n",
    "best_critic, best_critic_test_error, best_critic_config = \\\n",
    "    create_value_func_from_hyper_param_search(critic_config, data)\n"
   ]
  },
  {
   "cell_type": "code",
   "execution_count": 5,
   "metadata": {},
   "outputs": [],
   "source": [
    "import pickle\n",
    "\n",
    "\n",
    "def save_models(path, config, model):\n",
    "    saved_params = (config, model.params, model.optimizer_state)\n",
    "    pickle.dump(saved_params, open( path, \"wb\" ) )\n",
    "    \n",
    "def get_model(path):\n",
    "    config, params, optimizer_state = pickle.load(open(path, \"rb\" ))\n",
    "    predictor = HaikuPredictor.generate_controller_from_config(config)\n",
    "    predictor.params = params\n",
    "    predictor.optimizer_state = optimizer_state\n",
    "    return predictor, config\n"
   ]
  },
  {
   "cell_type": "code",
   "execution_count": 6,
   "metadata": {},
   "outputs": [],
   "source": [
    "save_dir = \"AntController/configs/\""
   ]
  },
  {
   "cell_type": "code",
   "execution_count": 9,
   "metadata": {},
   "outputs": [],
   "source": [
    "save_models(os.path.join(save_dir, \"selected_actor_no_sensor.p\"), best_actor_config, best_actor)"
   ]
  },
  {
   "cell_type": "code",
   "execution_count": 8,
   "metadata": {},
   "outputs": [],
   "source": [
    "save_models(os.path.join(save_dir, \"selected_critic_no_sensor.p\"), best_critic_config, best_critic)"
   ]
  },
  {
   "cell_type": "code",
   "execution_count": 15,
   "metadata": {},
   "outputs": [],
   "source": [
    "\n",
    "selected_critic_no_sensor, selected_critic_config = get_model(os.path.join(save_dir, \"selected_critic_no_sensor.p\"))"
   ]
  },
  {
   "cell_type": "code",
   "execution_count": 22,
   "metadata": {},
   "outputs": [
    {
     "data": {
      "text/plain": [
       "DeviceArray(0.00831687, dtype=float32)"
      ]
     },
     "execution_count": 22,
     "metadata": {},
     "output_type": "execute_result"
    }
   ],
   "source": [
    "get_value_func_loss(selected_critic_no_sensor, discount, data, test_pivot)"
   ]
  },
  {
   "cell_type": "code",
   "execution_count": 12,
   "metadata": {},
   "outputs": [],
   "source": [
    "epochs = 1024\n",
    "batch_size = 256\n"
   ]
  },
  {
   "cell_type": "code",
   "execution_count": null,
   "metadata": {},
   "outputs": [],
   "source": [
    "pretrain_predictor_as_value_func(\n",
    "        selected_critic_no_sensor, discount, data, epochs, batch_size, test_pivot\n",
    ")"
   ]
  },
  {
   "cell_type": "code",
   "execution_count": 20,
   "metadata": {},
   "outputs": [],
   "source": [
    "import optax\n"
   ]
  },
  {
   "cell_type": "code",
   "execution_count": null,
   "metadata": {},
   "outputs": [],
   "source": [
    "selected_critic.learning_rate"
   ]
  },
  {
   "cell_type": "code",
   "execution_count": 6,
   "metadata": {},
   "outputs": [
    {
     "name": "stderr",
     "output_type": "stream",
     "text": [
      "/home/charlie/.local/lib/python3.8/site-packages/jax/_src/lax/lax.py:6271: UserWarning: Explicitly requested dtype float64 requested in zeros is not available, and will be truncated to dtype float32. To enable more dtypes, set the jax_enable_x64 configuration option or the JAX_ENABLE_X64 shell environment variable. See https://github.com/google/jax#current-gotchas for more.\n",
      "  warnings.warn(msg.format(dtype, fun_name , truncated_dtype))\n"
     ]
    }
   ],
   "source": [
    "selected_actor, selected_actor_config = get_model(os.path.join(save_dir, \"selected_actor_no_sensor.p\"))"
   ]
  },
  {
   "cell_type": "code",
   "execution_count": 7,
   "metadata": {},
   "outputs": [
    {
     "data": {
      "text/plain": [
       "0.0001"
      ]
     },
     "execution_count": 7,
     "metadata": {},
     "output_type": "execute_result"
    }
   ],
   "source": [
    "selected_actor.learning_rate"
   ]
  },
  {
   "cell_type": "code",
   "execution_count": 23,
   "metadata": {},
   "outputs": [],
   "source": [
    "selected_actor.optimizer = optax.adam(0.00002, b1=0.5, b2=0.9)"
   ]
  },
  {
   "cell_type": "code",
   "execution_count": 24,
   "metadata": {},
   "outputs": [],
   "source": [
    "def train_actor_data_with_noise(predictor, batch_size, epochs, data, labels):\n",
    "        losses = []\n",
    "        for _ in range(epochs):\n",
    "            noise = np.pad(np.random.normal(0,0.07, (batch_size, 8)), ((0,0), (0,4)), 'constant',constant_values= 0)\n",
    "            batch_index = np.random.choice(range(len(data)), batch_size)\n",
    "            loss = predictor.train_batch(data[batch_index] + noise, labels[batch_index])\n",
    "            losses.append(loss)\n",
    "        return np.mean(losses)/batch_size"
   ]
  },
  {
   "cell_type": "code",
   "execution_count": 25,
   "metadata": {},
   "outputs": [
    {
     "name": "stdout",
     "output_type": "stream",
     "text": [
      "train error:  1.0541892051696777\n",
      "train error:  1.0489362478256226\n",
      "train error:  1.0425949096679688\n",
      "train error:  1.0352531671524048\n",
      "train error:  1.0340733528137207\n",
      "train error:  1.0367422103881836\n",
      "train error:  1.0444979667663574\n",
      "train error:  1.0389244556427002\n",
      "train error:  1.0475826263427734\n",
      "train error:  1.0467956066131592\n",
      "train error:  1.0444622039794922\n",
      "train error:  1.0451042652130127\n",
      "train error:  1.0444684028625488\n",
      "train error:  1.0386672019958496\n",
      "train error:  1.0459175109863281\n",
      "train error:  1.0338637828826904\n",
      "train error:  1.0355947017669678\n",
      "train error:  1.0377000570297241\n",
      "train error:  1.0493308305740356\n",
      "train error:  1.0435633659362793\n",
      "train error:  1.0411748886108398\n",
      "train error:  1.0383318662643433\n",
      "train error:  1.0365720987319946\n",
      "train error:  1.0391643047332764\n",
      "train error:  1.044542670249939\n",
      "train error:  1.0330193042755127\n",
      "train error:  1.035019874572754\n",
      "train error:  1.0421440601348877\n",
      "train error:  1.039217472076416\n",
      "train error:  1.0341404676437378\n",
      "train error:  1.040222406387329\n",
      "train error:  1.0404622554779053\n",
      "train error:  1.0344736576080322\n",
      "train error:  1.0404675006866455\n",
      "train error:  1.0387650728225708\n",
      "train error:  1.0336759090423584\n",
      "train error:  1.0424277782440186\n",
      "train error:  1.0412843227386475\n",
      "train error:  1.0376462936401367\n",
      "train error:  1.039935827255249\n",
      "train error:  1.0329606533050537\n",
      "train error:  1.035799503326416\n",
      "train error:  1.0451289415359497\n",
      "train error:  1.0420939922332764\n",
      "train error:  1.033974289894104\n",
      "train error:  1.0388797521591187\n",
      "train error:  1.0370724201202393\n",
      "train error:  1.0356051921844482\n",
      "train error:  1.0357733964920044\n",
      "train error:  1.0370256900787354\n",
      "train error:  1.0355181694030762\n",
      "train error:  1.0357532501220703\n",
      "train error:  1.0374150276184082\n",
      "train error:  1.0365899801254272\n",
      "train error:  1.0346264839172363\n",
      "train error:  1.0362313985824585\n",
      "train error:  1.0262082815170288\n",
      "train error:  1.0287230014801025\n",
      "train error:  1.039398431777954\n",
      "train error:  1.032029628753662\n",
      "train error:  1.0346322059631348\n",
      "train error:  1.0384740829467773\n",
      "train error:  1.037914514541626\n",
      "train error:  1.028282880783081\n",
      "train error:  1.0353612899780273\n",
      "train error:  1.0325088500976562\n",
      "train error:  1.0308996438980103\n",
      "train error:  1.0273666381835938\n",
      "train error:  1.026242971420288\n",
      "train error:  1.0278000831604004\n",
      "train error:  1.0377315282821655\n",
      "train error:  1.0304768085479736\n",
      "train error:  1.0323436260223389\n",
      "train error:  1.023888111114502\n",
      "train error:  1.0358772277832031\n",
      "train error:  1.0303857326507568\n",
      "train error:  1.0345467329025269\n",
      "train error:  1.0391459465026855\n",
      "train error:  1.0391945838928223\n",
      "train error:  1.0356063842773438\n",
      "train error:  1.0277793407440186\n",
      "train error:  1.0282809734344482\n",
      "train error:  1.0372285842895508\n",
      "train error:  1.0250964164733887\n",
      "train error:  1.022925853729248\n",
      "train error:  1.0302810668945312\n",
      "train error:  1.027024507522583\n",
      "train error:  1.024842381477356\n",
      "train error:  1.0249948501586914\n",
      "train error:  1.0323708057403564\n",
      "train error:  1.0345364809036255\n",
      "train error:  1.0282256603240967\n",
      "train error:  1.0290248394012451\n",
      "train error:  1.0226383209228516\n",
      "train error:  1.032137393951416\n",
      "train error:  1.0306763648986816\n",
      "train error:  1.0207606554031372\n",
      "train error:  1.0337963104248047\n",
      "train error:  1.0326776504516602\n",
      "train error:  1.0271801948547363\n",
      "train error:  1.0245893001556396\n",
      "train error:  1.0375136137008667\n",
      "train error:  1.0307954549789429\n",
      "train error:  1.0192781686782837\n",
      "train error:  1.025059461593628\n",
      "train error:  1.0164927244186401\n",
      "train error:  1.0264546871185303\n",
      "train error:  1.0260013341903687\n",
      "train error:  1.023899793624878\n",
      "train error:  1.02947199344635\n",
      "train error:  1.0322294235229492\n",
      "train error:  1.028894066810608\n",
      "train error:  1.0179977416992188\n",
      "train error:  1.0301342010498047\n",
      "train error:  1.023934006690979\n",
      "train error:  1.0163428783416748\n",
      "train error:  1.0260238647460938\n",
      "train error:  1.034191370010376\n",
      "train error:  1.0212507247924805\n",
      "train error:  1.0280733108520508\n",
      "train error:  1.021122694015503\n",
      "train error:  1.0195611715316772\n",
      "train error:  1.0221948623657227\n",
      "train error:  1.0196988582611084\n",
      "train error:  1.0261378288269043\n",
      "train error:  1.019162893295288\n",
      "train error:  1.018204689025879\n",
      "train error:  1.0162044763565063\n",
      "train error:  1.0139796733856201\n",
      "train error:  1.021772861480713\n",
      "train error:  1.0213950872421265\n",
      "train error:  1.0304522514343262\n",
      "train error:  1.019989252090454\n",
      "train error:  1.017199993133545\n",
      "train error:  1.023254156112671\n",
      "train error:  1.0100977420806885\n",
      "train error:  1.021700382232666\n",
      "train error:  1.0228301286697388\n",
      "train error:  1.014664888381958\n",
      "train error:  1.024637222290039\n",
      "train error:  1.020626425743103\n",
      "train error:  1.0273845195770264\n",
      "train error:  1.016418218612671\n",
      "train error:  1.0238430500030518\n",
      "train error:  1.0201308727264404\n",
      "train error:  1.0170252323150635\n",
      "train error:  1.0183191299438477\n",
      "train error:  1.0163559913635254\n",
      "train error:  1.021667718887329\n",
      "train error:  1.0202171802520752\n",
      "train error:  1.0220284461975098\n",
      "train error:  1.0187290906906128\n",
      "train error:  1.015356183052063\n",
      "train error:  1.0148324966430664\n",
      "train error:  1.0195794105529785\n",
      "train error:  1.022815465927124\n",
      "train error:  1.020505666732788\n",
      "train error:  1.0112236738204956\n",
      "train error:  1.0130358934402466\n",
      "train error:  1.0199552774429321\n",
      "train error:  1.0182132720947266\n",
      "train error:  1.0117980241775513\n",
      "train error:  1.0178453922271729\n",
      "train error:  1.0109578371047974\n",
      "train error:  1.0141323804855347\n",
      "train error:  1.01210355758667\n",
      "train error:  1.0123205184936523\n",
      "train error:  1.0225529670715332\n",
      "train error:  1.0154292583465576\n",
      "train error:  1.0122196674346924\n",
      "train error:  1.009244441986084\n",
      "train error:  1.0156409740447998\n",
      "train error:  1.0040833950042725\n",
      "train error:  1.0173455476760864\n",
      "train error:  1.016515851020813\n",
      "train error:  1.0158469676971436\n",
      "train error:  1.0162489414215088\n",
      "train error:  1.0066463947296143\n",
      "train error:  1.016498327255249\n",
      "train error:  1.012650489807129\n",
      "train error:  1.0063039064407349\n",
      "train error:  1.009369134902954\n",
      "train error:  1.0080546140670776\n",
      "train error:  1.0111348628997803\n",
      "train error:  1.0064828395843506\n",
      "train error:  1.0163084268569946\n",
      "train error:  1.0151036977767944\n",
      "train error:  1.0043764114379883\n",
      "train error:  1.0160942077636719\n",
      "train error:  1.0080957412719727\n",
      "train error:  1.0112587213516235\n",
      "train error:  1.0148510932922363\n",
      "train error:  1.0132489204406738\n",
      "train error:  1.0074372291564941\n",
      "train error:  1.0171058177947998\n",
      "train error:  0.9996190071105957\n",
      "train error:  1.0071818828582764\n",
      "train error:  1.0067458152770996\n",
      "train error:  1.0147364139556885\n",
      "train error:  0.9984296560287476\n",
      "train error:  1.010296106338501\n",
      "train error:  1.0094749927520752\n",
      "train error:  1.0138434171676636\n",
      "train error:  1.007167100906372\n",
      "train error:  1.006689429283142\n",
      "train error:  1.0098745822906494\n",
      "train error:  0.9997740387916565\n",
      "train error:  1.0123579502105713\n",
      "train error:  1.0078167915344238\n",
      "train error:  1.00211501121521\n",
      "train error:  1.0083317756652832\n",
      "train error:  1.0128287076950073\n",
      "train error:  1.0057215690612793\n",
      "train error:  1.0042123794555664\n",
      "train error:  1.0038583278656006\n",
      "train error:  0.9962564706802368\n",
      "train error:  1.0145117044448853\n",
      "train error:  1.015044093132019\n",
      "train error:  1.0076022148132324\n",
      "train error:  1.001468300819397\n",
      "train error:  1.0026159286499023\n",
      "train error:  1.0069910287857056\n",
      "train error:  1.0102075338363647\n",
      "train error:  1.0061465501785278\n",
      "train error:  1.0072014331817627\n",
      "train error:  1.007504940032959\n",
      "train error:  1.0072314739227295\n",
      "train error:  1.0048178434371948\n",
      "train error:  1.0006029605865479\n",
      "train error:  0.9953439235687256\n",
      "train error:  0.9985466003417969\n",
      "train error:  1.0090335607528687\n",
      "train error:  1.0070549249649048\n",
      "train error:  1.0042592287063599\n",
      "train error:  1.0010855197906494\n",
      "train error:  0.9957154989242554\n",
      "train error:  0.9974374771118164\n",
      "train error:  0.9959002733230591\n",
      "train error:  1.0013644695281982\n",
      "train error:  0.9992721676826477\n",
      "train error:  0.9990986585617065\n",
      "train error:  1.0026769638061523\n",
      "train error:  1.0081284046173096\n",
      "train error:  1.0021657943725586\n",
      "train error:  0.9972971677780151\n",
      "train error:  0.9965354800224304\n",
      "train error:  0.9983569383621216\n",
      "train error:  1.0025138854980469\n",
      "train error:  0.9981678128242493\n",
      "train error:  1.0054963827133179\n"
     ]
    },
    {
     "name": "stdout",
     "output_type": "stream",
     "text": [
      "train error:  0.9908437728881836\n",
      "train error:  1.0009737014770508\n",
      "train error:  1.0029460191726685\n",
      "train error:  1.004813551902771\n",
      "train error:  0.9949741363525391\n",
      "train error:  1.0012695789337158\n",
      "train error:  0.9941476583480835\n",
      "train error:  0.9975059628486633\n",
      "train error:  0.996556282043457\n",
      "train error:  0.9955832958221436\n",
      "train error:  0.9943230152130127\n",
      "train error:  1.000985026359558\n",
      "train error:  0.9966117143630981\n",
      "train error:  0.9984477758407593\n",
      "train error:  1.005676031112671\n",
      "train error:  1.000247836112976\n",
      "train error:  0.9954559803009033\n",
      "train error:  0.998216450214386\n",
      "train error:  0.9905585050582886\n",
      "train error:  0.9921779036521912\n",
      "train error:  1.0029617547988892\n",
      "train error:  0.9920607805252075\n",
      "train error:  0.993502140045166\n",
      "train error:  1.0026664733886719\n",
      "train error:  0.9936804175376892\n",
      "train error:  0.9968738555908203\n",
      "train error:  1.0003834962844849\n",
      "train error:  0.9994852542877197\n",
      "train error:  0.9831328392028809\n",
      "train error:  0.9923738241195679\n",
      "train error:  0.9889461994171143\n",
      "train error:  1.0015134811401367\n",
      "train error:  0.9968881011009216\n",
      "train error:  0.9956964254379272\n",
      "train error:  0.9884188175201416\n",
      "train error:  0.9920780658721924\n",
      "train error:  0.9946807622909546\n",
      "train error:  0.9954595565795898\n",
      "train error:  0.9985725283622742\n",
      "train error:  0.9961889386177063\n"
     ]
    },
    {
     "ename": "KeyboardInterrupt",
     "evalue": "",
     "output_type": "error",
     "traceback": [
      "\u001b[0;31m---------------------------------------------------------------------------\u001b[0m",
      "\u001b[0;31mKeyboardInterrupt\u001b[0m                         Traceback (most recent call last)",
      "\u001b[0;32m<ipython-input-25-a241cd6585c5>\u001b[0m in \u001b[0;36m<module>\u001b[0;34m\u001b[0m\n\u001b[1;32m      1\u001b[0m \u001b[0;32mfor\u001b[0m \u001b[0m_\u001b[0m \u001b[0;32min\u001b[0m \u001b[0mrange\u001b[0m\u001b[0;34m(\u001b[0m\u001b[0;36m1000\u001b[0m\u001b[0;34m)\u001b[0m\u001b[0;34m:\u001b[0m\u001b[0;34m\u001b[0m\u001b[0;34m\u001b[0m\u001b[0m\n\u001b[0;32m----> 2\u001b[0;31m     \u001b[0mprint\u001b[0m\u001b[0;34m(\u001b[0m\u001b[0;34m\"train error: \"\u001b[0m\u001b[0;34m,\u001b[0m \u001b[0mtrain_actor_data_with_noise\u001b[0m\u001b[0;34m(\u001b[0m\u001b[0mselected_actor\u001b[0m\u001b[0;34m,\u001b[0m \u001b[0mbatch_size\u001b[0m\u001b[0;34m,\u001b[0m \u001b[0mepochs\u001b[0m\u001b[0;34m,\u001b[0m \u001b[0mstates\u001b[0m\u001b[0;34m,\u001b[0m \u001b[0mactions\u001b[0m\u001b[0;34m)\u001b[0m\u001b[0;34m)\u001b[0m\u001b[0;34m\u001b[0m\u001b[0;34m\u001b[0m\u001b[0m\n\u001b[0m",
      "\u001b[0;32m<ipython-input-24-e390fa19ceaf>\u001b[0m in \u001b[0;36mtrain_actor_data_with_noise\u001b[0;34m(predictor, batch_size, epochs, data, labels)\u001b[0m\n\u001b[1;32m      3\u001b[0m         \u001b[0;32mfor\u001b[0m \u001b[0m_\u001b[0m \u001b[0;32min\u001b[0m \u001b[0mrange\u001b[0m\u001b[0;34m(\u001b[0m\u001b[0mepochs\u001b[0m\u001b[0;34m)\u001b[0m\u001b[0;34m:\u001b[0m\u001b[0;34m\u001b[0m\u001b[0;34m\u001b[0m\u001b[0m\n\u001b[1;32m      4\u001b[0m             \u001b[0mnoise\u001b[0m \u001b[0;34m=\u001b[0m \u001b[0mnp\u001b[0m\u001b[0;34m.\u001b[0m\u001b[0mpad\u001b[0m\u001b[0;34m(\u001b[0m\u001b[0mnp\u001b[0m\u001b[0;34m.\u001b[0m\u001b[0mrandom\u001b[0m\u001b[0;34m.\u001b[0m\u001b[0mnormal\u001b[0m\u001b[0;34m(\u001b[0m\u001b[0;36m0\u001b[0m\u001b[0;34m,\u001b[0m\u001b[0;36m0.07\u001b[0m\u001b[0;34m,\u001b[0m \u001b[0;34m(\u001b[0m\u001b[0mbatch_size\u001b[0m\u001b[0;34m,\u001b[0m \u001b[0;36m8\u001b[0m\u001b[0;34m)\u001b[0m\u001b[0;34m)\u001b[0m\u001b[0;34m,\u001b[0m \u001b[0;34m(\u001b[0m\u001b[0;34m(\u001b[0m\u001b[0;36m0\u001b[0m\u001b[0;34m,\u001b[0m\u001b[0;36m0\u001b[0m\u001b[0;34m)\u001b[0m\u001b[0;34m,\u001b[0m \u001b[0;34m(\u001b[0m\u001b[0;36m0\u001b[0m\u001b[0;34m,\u001b[0m\u001b[0;36m4\u001b[0m\u001b[0;34m)\u001b[0m\u001b[0;34m)\u001b[0m\u001b[0;34m,\u001b[0m \u001b[0;34m'constant'\u001b[0m\u001b[0;34m,\u001b[0m\u001b[0mconstant_values\u001b[0m\u001b[0;34m=\u001b[0m \u001b[0;36m0\u001b[0m\u001b[0;34m)\u001b[0m\u001b[0;34m\u001b[0m\u001b[0;34m\u001b[0m\u001b[0m\n\u001b[0;32m----> 5\u001b[0;31m             \u001b[0mbatch_index\u001b[0m \u001b[0;34m=\u001b[0m \u001b[0mnp\u001b[0m\u001b[0;34m.\u001b[0m\u001b[0mrandom\u001b[0m\u001b[0;34m.\u001b[0m\u001b[0mchoice\u001b[0m\u001b[0;34m(\u001b[0m\u001b[0mrange\u001b[0m\u001b[0;34m(\u001b[0m\u001b[0mlen\u001b[0m\u001b[0;34m(\u001b[0m\u001b[0mdata\u001b[0m\u001b[0;34m)\u001b[0m\u001b[0;34m)\u001b[0m\u001b[0;34m,\u001b[0m \u001b[0mbatch_size\u001b[0m\u001b[0;34m)\u001b[0m\u001b[0;34m\u001b[0m\u001b[0;34m\u001b[0m\u001b[0m\n\u001b[0m\u001b[1;32m      6\u001b[0m             \u001b[0mloss\u001b[0m \u001b[0;34m=\u001b[0m \u001b[0mpredictor\u001b[0m\u001b[0;34m.\u001b[0m\u001b[0mtrain_batch\u001b[0m\u001b[0;34m(\u001b[0m\u001b[0mdata\u001b[0m\u001b[0;34m[\u001b[0m\u001b[0mbatch_index\u001b[0m\u001b[0;34m]\u001b[0m \u001b[0;34m+\u001b[0m \u001b[0mnoise\u001b[0m\u001b[0;34m,\u001b[0m \u001b[0mlabels\u001b[0m\u001b[0;34m[\u001b[0m\u001b[0mbatch_index\u001b[0m\u001b[0;34m]\u001b[0m\u001b[0;34m)\u001b[0m\u001b[0;34m\u001b[0m\u001b[0;34m\u001b[0m\u001b[0m\n\u001b[1;32m      7\u001b[0m             \u001b[0mlosses\u001b[0m\u001b[0;34m.\u001b[0m\u001b[0mappend\u001b[0m\u001b[0;34m(\u001b[0m\u001b[0mloss\u001b[0m\u001b[0;34m)\u001b[0m\u001b[0;34m\u001b[0m\u001b[0;34m\u001b[0m\u001b[0m\n",
      "\u001b[0;32mmtrand.pyx\u001b[0m in \u001b[0;36mnumpy.random.mtrand.RandomState.choice\u001b[0;34m()\u001b[0m\n",
      "\u001b[0;32m<__array_function__ internals>\u001b[0m in \u001b[0;36mprod\u001b[0;34m(*args, **kwargs)\u001b[0m\n",
      "\u001b[0;31mKeyboardInterrupt\u001b[0m: "
     ]
    }
   ],
   "source": [
    "for _ in range(1000):\n",
    "    print(\"train error: \", train_actor_data_with_noise(selected_actor, batch_size, epochs, states, actions))"
   ]
  },
  {
   "cell_type": "code",
   "execution_count": 26,
   "metadata": {},
   "outputs": [],
   "source": [
    "save_models(os.path.join(save_dir, \"selected_actor_trained_with_noise_no_sensor.p\"), selected_actor_config, selected_actor)"
   ]
  },
  {
   "cell_type": "code",
   "execution_count": 1,
   "metadata": {},
   "outputs": [],
   "source": [
    "import numpy as np\n",
    "from AntController.JaxUtils import *"
   ]
  },
  {
   "cell_type": "code",
   "execution_count": null,
   "metadata": {},
   "outputs": [],
   "source": []
  }
 ],
 "metadata": {
  "kernelspec": {
   "display_name": "Python 3",
   "language": "python",
   "name": "python3"
  },
  "language_info": {
   "codemirror_mode": {
    "name": "ipython",
    "version": 3
   },
   "file_extension": ".py",
   "mimetype": "text/x-python",
   "name": "python",
   "nbconvert_exporter": "python",
   "pygments_lexer": "ipython3",
   "version": "3.8.5"
  }
 },
 "nbformat": 4,
 "nbformat_minor": 4
}
