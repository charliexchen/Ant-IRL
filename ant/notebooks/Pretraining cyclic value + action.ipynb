{
 "cells": [
  {
   "cell_type": "code",
   "execution_count": 1,
   "metadata": {},
   "outputs": [],
   "source": [
    "import yaml\n",
    "from AntController.HyperparamSearchUtils import create_data_from_data_stores, \\\n",
    "            create_actor_func_from_hyper_param_search, \\\n",
    "            create_value_func_from_hyper_param_search, \\\n",
    "            pretrain_predictor_as_value_func, \\\n",
    "            get_value_func_loss\n",
    "\n",
    "from AntController.AntEnvironment import EpisodeData\n",
    "from AntController.HaikuPredictor import HaikuPredictor\n",
    "import os\n",
    "import numpy as np\n",
    "\n",
    "from ServoController.WalktCycleConfigParser import WalkCycle"
   ]
  },
  {
   "cell_type": "code",
   "execution_count": 2,
   "metadata": {},
   "outputs": [],
   "source": [
    "training_data_dir = \"TrainingData/Fixed_Walk_With_Sensor\"\n",
    "data = create_data_from_data_stores(training_data_dir, False)\n"
   ]
  },
  {
   "cell_type": "code",
   "execution_count": 3,
   "metadata": {},
   "outputs": [],
   "source": [
    "rewards, states, actions, shifted_states, is_non_terminal = data\n",
    "discount = 0.98\n",
    "test_pivot = int(0.1 * len(data[0]))"
   ]
  },
  {
   "cell_type": "code",
   "execution_count": 4,
   "metadata": {},
   "outputs": [],
   "source": [
    "non_terminal_indices = np.where(is_non_terminal >0.5)[0]\n",
    "orientation_index =  [10, 11]\n",
    "pos_index =[8, 9]\n",
    "robot_index = range(8)\n",
    "action_index = [0,4]"
   ]
  },
  {
   "cell_type": "code",
   "execution_count": 5,
   "metadata": {},
   "outputs": [
    {
     "data": {
      "text/plain": [
       "array([[0.9939087 , 0.11020683],\n",
       "       [0.99639404, 0.0848466 ],\n",
       "       [0.99906456, 0.04324287],\n",
       "       ...,\n",
       "       [0.97543067, 0.22030647],\n",
       "       [0.97444797, 0.2246134 ],\n",
       "       [0.97716719, 0.21247165]])"
      ]
     },
     "execution_count": 5,
     "metadata": {},
     "output_type": "execute_result"
    }
   ],
   "source": [
    "states[non_terminal_indices][:, orientation_index]"
   ]
  },
  {
   "cell_type": "code",
   "execution_count": 6,
   "metadata": {},
   "outputs": [
    {
     "data": {
      "text/plain": [
       "array([[0.06658623, 0.38680655],\n",
       "       [0.06685618, 0.38806674],\n",
       "       [0.06992043, 0.38879454],\n",
       "       ...,\n",
       "       [0.77231675, 0.42561141],\n",
       "       [0.77554476, 0.42993438],\n",
       "       [0.78005993, 0.43688837]])"
      ]
     },
     "execution_count": 6,
     "metadata": {},
     "output_type": "execute_result"
    }
   ],
   "source": [
    "states[non_terminal_indices][:, pos_index]"
   ]
  },
  {
   "cell_type": "code",
   "execution_count": 7,
   "metadata": {},
   "outputs": [],
   "source": [
    "velocity = (shifted_states[:, pos_index] - states[:, pos_index] )*100"
   ]
  },
  {
   "cell_type": "code",
   "execution_count": 8,
   "metadata": {},
   "outputs": [],
   "source": [
    "orientation = states[:, orientation_index]"
   ]
  },
  {
   "cell_type": "code",
   "execution_count": 9,
   "metadata": {},
   "outputs": [
    {
     "data": {
      "text/plain": [
       "array([[ 0.0269942 ,  0.12601912],\n",
       "       [ 0.30642524,  0.07278025],\n",
       "       [ 0.29643551, -0.24676919],\n",
       "       ...,\n",
       "       [ 0.32280087,  0.43229759],\n",
       "       [ 0.45151711,  0.69539845],\n",
       "       [ 0.90805888,  0.43273568]])"
      ]
     },
     "execution_count": 9,
     "metadata": {},
     "output_type": "execute_result"
    }
   ],
   "source": [
    "velocity[non_terminal_indices]"
   ]
  },
  {
   "cell_type": "code",
   "execution_count": 10,
   "metadata": {},
   "outputs": [],
   "source": [
    "velocity_reward = np.sum(np.multiply(velocity[non_terminal_indices], orientation[non_terminal_indices]), axis =1)\n",
    "velocity_reward = velocity_reward.reshape((len(velocity_reward), 1))"
   ]
  },
  {
   "cell_type": "code",
   "execution_count": 11,
   "metadata": {},
   "outputs": [],
   "source": [
    "input_dataset = WalkCycle(\n",
    "    \"WalkConfigs/nn_training_walk_config.yaml\", speed=0.3\n",
    ").get_all_frames()"
   ]
  },
  {
   "cell_type": "code",
   "execution_count": 12,
   "metadata": {},
   "outputs": [],
   "source": [
    "frames = np.asarray(input_dataset)"
   ]
  },
  {
   "cell_type": "code",
   "execution_count": 13,
   "metadata": {},
   "outputs": [
    {
     "data": {
      "text/plain": [
       "array([[ 0.15 , -0.15 ,  0.15 , -0.15 ,  1.   ,  0.7  ,  1.   ,  0.7  ],\n",
       "       [ 0.075, -0.075,  0.075, -0.075,  1.   ,  0.7  ,  1.   ,  0.7  ],\n",
       "       [ 0.   ,  0.   ,  0.   ,  0.   ,  1.   ,  0.7  ,  1.   ,  0.7  ],\n",
       "       [-0.075,  0.075, -0.075,  0.075,  1.   ,  0.7  ,  1.   ,  0.7  ],\n",
       "       [-0.15 ,  0.15 , -0.15 ,  0.15 ,  1.   ,  0.7  ,  1.   ,  0.7  ],\n",
       "       [-0.15 ,  0.15 , -0.15 ,  0.15 ,  0.7  ,  1.   ,  0.7  ,  1.   ],\n",
       "       [-0.075,  0.075, -0.075,  0.075,  0.7  ,  1.   ,  0.7  ,  1.   ],\n",
       "       [ 0.   ,  0.   ,  0.   ,  0.   ,  0.7  ,  1.   ,  0.7  ,  1.   ],\n",
       "       [ 0.075, -0.075,  0.075, -0.075,  0.7  ,  1.   ,  0.7  ,  1.   ],\n",
       "       [ 0.15 , -0.15 ,  0.15 , -0.15 ,  0.7  ,  1.   ,  0.7  ,  1.   ]])"
      ]
     },
     "execution_count": 13,
     "metadata": {},
     "output_type": "execute_result"
    }
   ],
   "source": [
    "frames"
   ]
  },
  {
   "cell_type": "code",
   "execution_count": 14,
   "metadata": {},
   "outputs": [],
   "source": [
    "def find_closest_pos_index(robot_state):\n",
    "    distance = np.linalg.norm(frames - robot_state, axis =1)\n",
    "    return np.argmin(distance)"
   ]
  },
  {
   "cell_type": "code",
   "execution_count": 15,
   "metadata": {},
   "outputs": [],
   "source": [
    "phase_state = np.asarray([find_closest_pos_index(robot_state) for robot_state in states[:,robot_index]])"
   ]
  },
  {
   "cell_type": "code",
   "execution_count": 16,
   "metadata": {},
   "outputs": [],
   "source": [
    "next_phase_state = np.asarray([find_closest_pos_index(robot_state) for robot_state in shifted_states[:,robot_index]])"
   ]
  },
  {
   "cell_type": "code",
   "execution_count": 17,
   "metadata": {},
   "outputs": [],
   "source": [
    "def to_phase_vector(index, steps):\n",
    "    angle = 2*np.pi*index/steps\n",
    "    return np.dstack((np.cos(angle), np.sin(angle)))[0]"
   ]
  },
  {
   "cell_type": "code",
   "execution_count": 20,
   "metadata": {},
   "outputs": [],
   "source": [
    "phase_vector = to_phase_vector(phase_state, 10)[non_terminal_indices]\n",
    "next_phase_vector = to_phase_vector(next_phase_state, 10)[non_terminal_indices]"
   ]
  },
  {
   "cell_type": "code",
   "execution_count": 21,
   "metadata": {},
   "outputs": [],
   "source": [
    "phase_vector = np.concatenate((phase_vector, to_phase_vector(phase_state+5, 10)[non_terminal_indices])) \n",
    "next_phase_vector = np.concatenate((next_phase_vector, to_phase_vector(next_phase_state+5, 10)[non_terminal_indices]))\n",
    "velocity_reward = np.concatenate((velocity_reward,velocity_reward))"
   ]
  },
  {
   "cell_type": "code",
   "execution_count": 22,
   "metadata": {},
   "outputs": [],
   "source": [
    "batch_size = 256"
   ]
  },
  {
   "cell_type": "code",
   "execution_count": 23,
   "metadata": {},
   "outputs": [],
   "source": [
    "def train_on_batch(predictor, discount):\n",
    "    l=len(phase_vector)\n",
    "    batch_ids = np.random.choice(l ,batch_size)\n",
    "    inputs = phase_vector[batch_ids]\n",
    "    rewards = velocity_reward[batch_ids] + predictor.evaluate(next_phase_vector[batch_ids])*discount\n",
    "    return predictor.train_batch(inputs,rewards)/batch_size"
   ]
  },
  {
   "cell_type": "code",
   "execution_count": 28,
   "metadata": {},
   "outputs": [],
   "source": [
    "path = \"AntController/configs/fixed_cycle_critic_trainer_config.yaml\"\n",
    "with open(path) as file:\n",
    "    config = yaml.load(file, Loader=yaml.FullLoader)\n",
    "walk_critic = HaikuPredictor.generate_controller_from_config(config)"
   ]
  },
  {
   "cell_type": "code",
   "execution_count": 32,
   "metadata": {},
   "outputs": [
    {
     "data": {
      "text/plain": [
       "DeviceArray(0.2558332, dtype=float32)"
      ]
     },
     "execution_count": 32,
     "metadata": {},
     "output_type": "execute_result"
    }
   ],
   "source": [
    "for i in range(1000):\n",
    "    train_on_batch(walk_critic, 0.95)\n",
    "train_on_batch(walk_critic, 0.95)"
   ]
  },
  {
   "cell_type": "code",
   "execution_count": 33,
   "metadata": {},
   "outputs": [],
   "source": [
    "batch_ids = np.random.choice(len(phase_vector), 5)"
   ]
  },
  {
   "cell_type": "code",
   "execution_count": 34,
   "metadata": {},
   "outputs": [
    {
     "data": {
      "text/plain": [
       "DeviceArray([[17.613783],\n",
       "             [17.6103  ],\n",
       "             [17.371634],\n",
       "             [17.095972],\n",
       "             [17.466585],\n",
       "             [17.838734],\n",
       "             [17.841269],\n",
       "             [17.508429],\n",
       "             [17.095846],\n",
       "             [17.328321],\n",
       "             [17.613783]], dtype=float32)"
      ]
     },
     "execution_count": 34,
     "metadata": {},
     "output_type": "execute_result"
    }
   ],
   "source": [
    "walk_critic.evaluate(next_phase_vector[:11])"
   ]
  },
  {
   "cell_type": "code",
   "execution_count": 36,
   "metadata": {},
   "outputs": [],
   "source": [
    "import pickle\n",
    "\n",
    "save_dir = \"AntController/configs/\"\n",
    "\n",
    "def save_models_with_config(path, config, model):\n",
    "    saved_params = (config, model.params, model.optimizer_state)\n",
    "    pickle.dump(saved_params, open( path, \"wb\" ) )\n",
    "    \n",
    "def get_model_with_config(path):\n",
    "    config, params, optimizer_state = pickle.load(open(path, \"rb\" ))\n",
    "    predictor = HaikuPredictor.generate_controller_from_config(config)\n",
    "    predictor.params = params\n",
    "    predictor.optimizer_state = optimizer_state\n",
    "    return predictor, config\n"
   ]
  },
  {
   "cell_type": "code",
   "execution_count": 38,
   "metadata": {},
   "outputs": [],
   "source": [
    "save_path = os.path.join(save_dir, \"fixed_cycle_critic.p\")\n",
    "save_models_with_config(save_path, config, walk_critic)"
   ]
  },
  {
   "cell_type": "code",
   "execution_count": 4,
   "metadata": {
    "scrolled": true
   },
   "outputs": [
    {
     "name": "stdout",
     "output_type": "stream",
     "text": [
      "10 10\n",
      "10.779549\n",
      "10.211185\n",
      "9.668233\n",
      "9.151503\n",
      "8.660837\n",
      "8.195132\n",
      "7.752788\n",
      "7.332155\n",
      "6.9318714\n",
      "6.550897\n",
      "6.1884065\n",
      "5.84367\n",
      "5.515998\n",
      "5.2047176\n",
      "4.9091673\n",
      "4.628695\n",
      "4.362657\n",
      "4.1104145\n",
      "3.8713417\n",
      "3.6448174\n",
      "3.4302292\n",
      "3.2269745\n",
      "3.0344584\n",
      "2.8521018\n",
      "2.679338\n",
      "2.5156152\n",
      "2.3604014\n",
      "2.2131732\n",
      "2.0734682\n",
      "1.9408551\n",
      "1.8149184\n",
      "1.6952872\n",
      "1.5816314\n",
      "1.4736633\n",
      "1.3711307\n",
      "1.2738175\n",
      "1.1815372\n",
      "1.0941341\n",
      "1.0114707\n",
      "0.93342245\n",
      "0.85987806\n",
      "0.79072297\n",
      "0.72584784\n",
      "0.6651457\n",
      "0.6084887\n",
      "0.55576384\n",
      "0.50685\n",
      "0.46161988\n",
      "0.4199339\n",
      "0.3816465\n",
      "0.3466062\n",
      "0.31465468\n",
      "0.28562802\n",
      "0.25935796\n",
      "0.23567057\n",
      "0.21438938\n",
      "0.19533479\n",
      "0.17832793\n",
      "0.16318986\n",
      "0.14974405\n",
      "0.13781916\n",
      "0.12724958\n",
      "0.117877856\n",
      "0.10955648\n",
      "0.10214946\n",
      "0.09553623\n",
      "0.089651674\n",
      "0.08497588\n",
      "0.082068354\n",
      "0.075847715\n",
      "0.071230225\n",
      "0.0678083\n",
      "0.064037584\n",
      "0.0609771\n",
      "0.058088966\n",
      "0.055389505\n",
      "0.052963443\n",
      "0.050742973\n",
      "0.04870833\n",
      "0.046863362\n",
      "0.045200758\n",
      "0.04371006\n",
      "0.04238021\n",
      "0.041200757\n",
      "0.040160805\n",
      "0.039248317\n",
      "0.038451716\n",
      "0.037761137\n",
      "0.03717905\n",
      "0.036828175\n",
      "0.037604727\n",
      "0.038395416\n",
      "0.035792902\n",
      "0.035447128\n",
      "0.035219032\n",
      "0.034639087\n",
      "0.034472678\n",
      "0.034222372\n",
      "0.033949994\n",
      "0.033731513\n"
     ]
    }
   ],
   "source": [
    "def get_phase_vector(length):\n",
    "    angle = 2 * np.pi * np.arange(length) / length\n",
    "    return np.dstack((np.cos(angle), np.sin(angle)))[0]\n",
    "\n",
    "\n",
    "def full_action_to_quarter_action(action):\n",
    "    return action[:, [0, 4]]\n",
    "\n",
    "\n",
    "def get_vector_from_angle(angle):\n",
    "    return np.dstack((np.cos(angle), np.sin(angle)))\n",
    "\n",
    "\n",
    "\n",
    "path = \"AntController/configs/fixed_cycle_trainer_config.yaml\"\n",
    "with open(path) as file:\n",
    "    config = yaml.load(file, Loader=yaml.FullLoader)\n",
    "actor = HaikuPredictor.generate_controller_from_config(config)\n",
    "input_dataset = WalkCycle(\n",
    "    \"WalkConfigs/nn_training_walk_config.yaml\", speed=0.3\n",
    ").get_all_frames()\n",
    "actions = full_action_to_quarter_action(np.asarray(input_dataset)) \n",
    "states = get_phase_vector(len(actions))\n",
    "\n",
    "print(len(actions), len(states))\n",
    "\n",
    "for _ in range(100):\n",
    "    loss = actor.train_batch(states, actions)\n",
    "    print(loss)\n"
   ]
  },
  {
   "cell_type": "code",
   "execution_count": 9,
   "metadata": {},
   "outputs": [],
   "source": [
    "save_path = os.path.join(save_dir, \"fixed_cycle_actor.p\")\n",
    "save_models_with_config(save_path, config, actor)"
   ]
  },
  {
   "cell_type": "code",
   "execution_count": null,
   "metadata": {},
   "outputs": [],
   "source": []
  }
 ],
 "metadata": {
  "kernelspec": {
   "display_name": "Python 3",
   "language": "python",
   "name": "python3"
  },
  "language_info": {
   "codemirror_mode": {
    "name": "ipython",
    "version": 3
   },
   "file_extension": ".py",
   "mimetype": "text/x-python",
   "name": "python",
   "nbconvert_exporter": "python",
   "pygments_lexer": "ipython3",
   "version": "3.8.5"
  }
 },
 "nbformat": 4,
 "nbformat_minor": 4
}
