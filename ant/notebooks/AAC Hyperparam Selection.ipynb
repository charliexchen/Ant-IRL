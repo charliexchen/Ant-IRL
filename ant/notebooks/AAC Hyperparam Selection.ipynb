{
 "cells": [
  {
   "cell_type": "code",
   "execution_count": null,
   "metadata": {},
   "outputs": [],
   "source": [
    "import yaml\n",
    "from AntController.HyperparamSearch import create_data_from_data_stores, \\\n",
    "            create_actor_func_from_hyper_param_search, \\\n",
    "            create_value_func_from_hyper_param_search, \\\n",
    "            pretrain_predictor_as_value_func, \\\n",
    "            get_value_func_loss\n",
    "\n",
    "from AntController.AntEnvironment import EpisodeData\n",
    "from AntController.HaikuPredictor import HaikuPredictor\n",
    "import os\n",
    "import numpy as np"
   ]
  },
  {
   "cell_type": "code",
   "execution_count": null,
   "metadata": {},
   "outputs": [],
   "source": [
    "actor_config_path = \"AntController/configs/actor_hyperparam_search_config.yaml\"\n",
    "critic_config_path = \"AntController/configs/critic_hyperparam_search_config.yaml\"\n",
    "training_data_dir = \"TrainingData/Fixed_Walk_With_Sensor\"\n",
    "data = create_data_from_data_stores(training_data_dir)\n"
   ]
  },
  {
   "cell_type": "code",
   "execution_count": null,
   "metadata": {},
   "outputs": [],
   "source": [
    "rewards, states, actions, shifted_states, is_non_terminal = data\n",
    "discount = 0.98\n",
    "test_pivot = int(0.1 * len(data[0]))"
   ]
  },
  {
   "cell_type": "code",
   "execution_count": null,
   "metadata": {},
   "outputs": [],
   "source": [
    "with open(actor_config_path) as file:\n",
    "    actor_config = yaml.load(file, Loader=yaml.FullLoader)\n",
    "best_actor, best_actor_test_error, best_actor_config = \\\n",
    "    create_actor_func_from_hyper_param_search(actor_config, data)"
   ]
  },
  {
   "cell_type": "code",
   "execution_count": null,
   "metadata": {},
   "outputs": [],
   "source": [
    "with open(critic_config_path) as file:\n",
    "    critic_config = yaml.load(file, Loader=yaml.FullLoader)\n",
    "best_critic, best_critic_test_error, best_critic_config = \\\n",
    "    create_value_func_from_hyper_param_search(critic_config, data)\n"
   ]
  },
  {
   "cell_type": "code",
   "execution_count": null,
   "metadata": {},
   "outputs": [],
   "source": [
    "import pickle\n",
    "\n",
    "\n",
    "def save_models(path, config, model):\n",
    "    saved_params = (config, model.params, model.optimizer_state)\n",
    "    pickle.dump(saved_params, open( path, \"wb\" ) )\n",
    "    \n",
    "def get_model(path):\n",
    "    config, params, optimizer_state = pickle.load(open(path, \"rb\" ))\n",
    "    predictor = HaikuPredictor.generate_controller_from_config(config)\n",
    "    predictor.params = params\n",
    "    predictor.optimizer_state = optimizer_state\n",
    "    return predictor, config\n"
   ]
  },
  {
   "cell_type": "code",
   "execution_count": null,
   "metadata": {},
   "outputs": [],
   "source": [
    "save_dir = \"AntController/configs/\""
   ]
  },
  {
   "cell_type": "code",
   "execution_count": null,
   "metadata": {},
   "outputs": [],
   "source": [
    "save_models(os.path.join(save_dir, \"selected_actor.p\"), best_actor_config, best_actor)"
   ]
  },
  {
   "cell_type": "code",
   "execution_count": null,
   "metadata": {},
   "outputs": [],
   "source": [
    "save_models(os.path.join(save_dir, \"selected_critic.p\"), best_critic_config, best_critic)"
   ]
  },
  {
   "cell_type": "code",
   "execution_count": null,
   "metadata": {},
   "outputs": [],
   "source": [
    "selected_critic = get_model(os.path.join(save_dir, \"selected_critic.p\"))"
   ]
  },
  {
   "cell_type": "code",
   "execution_count": null,
   "metadata": {},
   "outputs": [],
   "source": [
    "get_value_func_loss(selected_critic, discount, data, test_pivot)"
   ]
  },
  {
   "cell_type": "code",
   "execution_count": null,
   "metadata": {},
   "outputs": [],
   "source": [
    "epochs = 1024\n",
    "batch_size = 256\n",
    "pretrain_predictor_as_value_func(\n",
    "        selected_critic, discount, data, epochs, batch_size, test_pivot\n",
    ")"
   ]
  },
  {
   "cell_type": "code",
   "execution_count": null,
   "metadata": {},
   "outputs": [],
   "source": [
    "import optax\n",
    "selected_critic.optimizer = optax.adam(0.00002, b1=0.5, b2=0.9)"
   ]
  },
  {
   "cell_type": "code",
   "execution_count": null,
   "metadata": {},
   "outputs": [],
   "source": [
    "selected_critic.learning_rate"
   ]
  },
  {
   "cell_type": "code",
   "execution_count": null,
   "metadata": {},
   "outputs": [],
   "source": [
    "selected_actor_, selected_actor_config = get_model(os.path.join(save_dir, \"selected_actor.p\"))"
   ]
  },
  {
   "cell_type": "code",
   "execution_count": null,
   "metadata": {},
   "outputs": [],
   "source": [
    "selected_actor.learning_rate"
   ]
  },
  {
   "cell_type": "code",
   "execution_count": null,
   "metadata": {},
   "outputs": [],
   "source": [
    "selected_actor.optimizer = optax.adam(0.0001, b1=0.5, b2=0.9)"
   ]
  },
  {
   "cell_type": "code",
   "execution_count": null,
   "metadata": {},
   "outputs": [],
   "source": [
    "for _ in range(1000):\n",
    "    print(\"train error: \", train_actor_data_with_noise(selected_actor, batch_size, epochs, states, actions))"
   ]
  },
  {
   "cell_type": "code",
   "execution_count": null,
   "metadata": {},
   "outputs": [],
   "source": [
    "def train_actor_data_with_noise(predictor, batch_size, epochs, data, labels):\n",
    "        losses = []\n",
    "        for _ in range(epochs):\n",
    "            noise = np.pad(np.random.normal(0,0.07, (batch_size, 8)), ((0,0), (0,14)), 'constant',constant_values= 0)\n",
    "            batch_index = np.random.choice(range(len(data)), batch_size)\n",
    "            loss = predictor.train_batch(data[batch_index] + noise, labels[batch_index])\n",
    "            losses.append(loss)\n",
    "        return np.mean(losses)/batch_size"
   ]
  },
  {
   "cell_type": "code",
   "execution_count": null,
   "metadata": {},
   "outputs": [],
   "source": [
    "save_models(os.path.join(save_dir, \"selected_actor_trained_with_noise.p\"), selected_actor_config, selected_actor)"
   ]
  },
  {
   "cell_type": "code",
   "execution_count": 1,
   "metadata": {},
   "outputs": [],
   "source": [
    "import numpy as np\n",
    "from AntController.JaxUtils import *"
   ]
  },
  {
   "cell_type": "code",
   "execution_count": 5,
   "metadata": {},
   "outputs": [
    {
     "data": {
      "text/plain": [
       "DeviceArray([[0.3989423 , 0.39695254, 0.39695254],\n",
       "             [0.3989423 , 0.3989423 , 0.3989423 ]], dtype=float32)"
      ]
     },
     "execution_count": 5,
     "metadata": {},
     "output_type": "execute_result"
    }
   ],
   "source": [
    "means = np.asarray([1,1,1])\n",
    "variances = np.asarray([1,1,1])\n",
    "values = np.asarray([[1,1.1,0.9], [1,1,1]])\n",
    "normal_density(means, variances, values)"
   ]
  },
  {
   "cell_type": "code",
   "execution_count": 7,
   "metadata": {},
   "outputs": [
    {
     "data": {
      "text/plain": [
       "5.5236316"
      ]
     },
     "execution_count": 7,
     "metadata": {},
     "output_type": "execute_result"
    }
   ],
   "source": [
    "-np.sum(np.log(normal_density(means, variances, values)))"
   ]
  },
  {
   "cell_type": "code",
   "execution_count": null,
   "metadata": {},
   "outputs": [],
   "source": [
    "np/"
   ]
  }
 ],
 "metadata": {
  "kernelspec": {
   "display_name": "Python 3",
   "language": "python",
   "name": "python3"
  },
  "language_info": {
   "codemirror_mode": {
    "name": "ipython",
    "version": 3
   },
   "file_extension": ".py",
   "mimetype": "text/x-python",
   "name": "python",
   "nbconvert_exporter": "python",
   "pygments_lexer": "ipython3",
   "version": "3.8.5"
  }
 },
 "nbformat": 4,
 "nbformat_minor": 4
}
