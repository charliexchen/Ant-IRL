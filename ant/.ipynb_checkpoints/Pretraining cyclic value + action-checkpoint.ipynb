{
 "cells": [
  {
   "cell_type": "code",
   "execution_count": 79,
   "metadata": {},
   "outputs": [],
   "source": [
    "import yaml\n",
    "from AntController.HyperparamSearchUtils import create_data_from_data_stores, \\\n",
    "            create_actor_func_from_hyper_param_search, \\\n",
    "            create_value_func_from_hyper_param_search, \\\n",
    "            pretrain_predictor_as_value_func, \\\n",
    "            get_value_func_loss\n",
    "\n",
    "from AntController.AntEnvironment import EpisodeData\n",
    "from AntController.HaikuPredictor import HaikuPredictor\n",
    "import os\n",
    "import numpy as np\n",
    "\n",
    "from ServoController.WalktCycleConfigParser import WalkCycle"
   ]
  },
  {
   "cell_type": "code",
   "execution_count": 9,
   "metadata": {},
   "outputs": [],
   "source": [
    "training_data_dir = \"TrainingData/Fixed_Walk_With_Sensor\"\n",
    "data = create_data_from_data_stores(training_data_dir, False)\n"
   ]
  },
  {
   "cell_type": "code",
   "execution_count": 38,
   "metadata": {},
   "outputs": [],
   "source": [
    "rewards, states, actions, shifted_states, is_non_terminal = data\n",
    "discount = 0.98\n",
    "test_pivot = int(0.1 * len(data[0]))"
   ]
  },
  {
   "cell_type": "code",
   "execution_count": 104,
   "metadata": {},
   "outputs": [],
   "source": [
    "non_terminal_indices = np.where(is_non_terminal >0.5)[0]\n",
    "orientation_index =  [10, 11]\n",
    "pos_index =[8, 9]\n",
    "robot_index = range(8)"
   ]
  },
  {
   "cell_type": "code",
   "execution_count": 105,
   "metadata": {},
   "outputs": [
    {
     "data": {
      "text/plain": [
       "array([[0.9939087 , 0.11020683],\n",
       "       [0.99639404, 0.0848466 ],\n",
       "       [0.99906456, 0.04324287],\n",
       "       ...,\n",
       "       [0.97543067, 0.22030647],\n",
       "       [0.97444797, 0.2246134 ],\n",
       "       [0.97716719, 0.21247165]])"
      ]
     },
     "execution_count": 105,
     "metadata": {},
     "output_type": "execute_result"
    }
   ],
   "source": [
    "states[non_terminal_indices][:, orientation_index]"
   ]
  },
  {
   "cell_type": "code",
   "execution_count": 106,
   "metadata": {},
   "outputs": [
    {
     "data": {
      "text/plain": [
       "array([[0.06658623, 0.38680655],\n",
       "       [0.06685618, 0.38806674],\n",
       "       [0.06992043, 0.38879454],\n",
       "       ...,\n",
       "       [0.77231675, 0.42561141],\n",
       "       [0.77554476, 0.42993438],\n",
       "       [0.78005993, 0.43688837]])"
      ]
     },
     "execution_count": 106,
     "metadata": {},
     "output_type": "execute_result"
    }
   ],
   "source": [
    "states[non_terminal_indices][:, pos_index]"
   ]
  },
  {
   "cell_type": "code",
   "execution_count": 67,
   "metadata": {},
   "outputs": [],
   "source": [
    "velocity = (shifted_states[:, pos_index] - states[:, pos_index] )*100"
   ]
  },
  {
   "cell_type": "code",
   "execution_count": 69,
   "metadata": {},
   "outputs": [],
   "source": [
    "orientation = states[:, orientation_index]"
   ]
  },
  {
   "cell_type": "code",
   "execution_count": 76,
   "metadata": {},
   "outputs": [
    {
     "data": {
      "text/plain": [
       "array([[ 0.0269942 ,  0.12601912],\n",
       "       [ 0.30642524,  0.07278025],\n",
       "       [ 0.29643551, -0.24676919],\n",
       "       ...,\n",
       "       [ 0.32280087,  0.43229759],\n",
       "       [ 0.45151711,  0.69539845],\n",
       "       [ 0.90805888,  0.43273568]])"
      ]
     },
     "execution_count": 76,
     "metadata": {},
     "output_type": "execute_result"
    }
   ],
   "source": [
    "velocity[non_terminal_indices]"
   ]
  },
  {
   "cell_type": "code",
   "execution_count": 77,
   "metadata": {},
   "outputs": [],
   "source": [
    "velocity_reward = np.sum(np.multiply(velocity[non_terminal_indices], orientation[non_terminal_indices]), axis =1)"
   ]
  },
  {
   "cell_type": "code",
   "execution_count": 121,
   "metadata": {},
   "outputs": [],
   "source": [
    "input_dataset = WalkCycle(\n",
    "    \"WalkConfigs/nn_training_walk_config.yaml\", speed=0.3\n",
    ").get_all_frames()"
   ]
  },
  {
   "cell_type": "code",
   "execution_count": 122,
   "metadata": {},
   "outputs": [],
   "source": [
    "frames = np.asarray(input_dataset)"
   ]
  },
  {
   "cell_type": "code",
   "execution_count": 125,
   "metadata": {},
   "outputs": [
    {
     "data": {
      "text/plain": [
       "array([[ 0.15 , -0.15 ,  0.15 , -0.15 ,  1.   ,  0.7  ,  1.   ,  0.7  ],\n",
       "       [ 0.075, -0.075,  0.075, -0.075,  1.   ,  0.7  ,  1.   ,  0.7  ],\n",
       "       [ 0.   ,  0.   ,  0.   ,  0.   ,  1.   ,  0.7  ,  1.   ,  0.7  ],\n",
       "       [-0.075,  0.075, -0.075,  0.075,  1.   ,  0.7  ,  1.   ,  0.7  ],\n",
       "       [-0.15 ,  0.15 , -0.15 ,  0.15 ,  1.   ,  0.7  ,  1.   ,  0.7  ],\n",
       "       [-0.15 ,  0.15 , -0.15 ,  0.15 ,  0.7  ,  1.   ,  0.7  ,  1.   ],\n",
       "       [-0.075,  0.075, -0.075,  0.075,  0.7  ,  1.   ,  0.7  ,  1.   ],\n",
       "       [ 0.   ,  0.   ,  0.   ,  0.   ,  0.7  ,  1.   ,  0.7  ,  1.   ],\n",
       "       [ 0.075, -0.075,  0.075, -0.075,  0.7  ,  1.   ,  0.7  ,  1.   ],\n",
       "       [ 0.15 , -0.15 ,  0.15 , -0.15 ,  0.7  ,  1.   ,  0.7  ,  1.   ]])"
      ]
     },
     "execution_count": 125,
     "metadata": {},
     "output_type": "execute_result"
    }
   ],
   "source": [
    "frames"
   ]
  },
  {
   "cell_type": "code",
   "execution_count": 126,
   "metadata": {},
   "outputs": [
    {
     "data": {
      "text/plain": [
       "array([-0.15,  0.15, -0.15,  0.15,  1.  ,  0.7 ,  1.  ,  0.7 ])"
      ]
     },
     "execution_count": 126,
     "metadata": {},
     "output_type": "execute_result"
    }
   ],
   "source": [
    "states[:,action_index][50]"
   ]
  },
  {
   "cell_type": "code",
   "execution_count": 128,
   "metadata": {},
   "outputs": [],
   "source": [
    "def find_closest_pos_index(robot_state):\n",
    "    distance = np.linalg.norm(frames - robot_state, axis =1)\n",
    "    return np.argmin(distance)"
   ]
  },
  {
   "cell_type": "code",
   "execution_count": 134,
   "metadata": {},
   "outputs": [],
   "source": [
    "phase_state = np.asarray([find_closest_pos_index(robot_state) for robot_state in states[:,action_index]])"
   ]
  },
  {
   "cell_type": "code",
   "execution_count": 137,
   "metadata": {},
   "outputs": [],
   "source": [
    "next_phase_state = np.asarray([find_closest_pos_index(robot_state) for robot_state in shifted_states[:,action_index]])"
   ]
  },
  {
   "cell_type": "code",
   "execution_count": 140,
   "metadata": {},
   "outputs": [],
   "source": [
    "def to_phase_vector(index, steps):\n",
    "    angle = 2*np.pi*index/steps\n",
    "    return np.dstack((np.cos(angle), np.sin(angle)))[0]"
   ]
  },
  {
   "cell_type": "code",
   "execution_count": 144,
   "metadata": {},
   "outputs": [],
   "source": [
    "phase_vector = to_phase_vector(phase_state, 10)[non_terminal_indices]\n",
    "next_phase_vector = to_phase_vector(next_phase_state, 10)[non_terminal_indices]"
   ]
  }
 ],
 "metadata": {
  "kernelspec": {
   "display_name": "Python 3",
   "language": "python",
   "name": "python3"
  },
  "language_info": {
   "codemirror_mode": {
    "name": "ipython",
    "version": 3
   },
   "file_extension": ".py",
   "mimetype": "text/x-python",
   "name": "python",
   "nbconvert_exporter": "python",
   "pygments_lexer": "ipython3",
   "version": "3.8.5"
  }
 },
 "nbformat": 4,
 "nbformat_minor": 4
}
